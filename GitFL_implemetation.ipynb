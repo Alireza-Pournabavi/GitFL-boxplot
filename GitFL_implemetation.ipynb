{
  "cells": [
    {
      "cell_type": "markdown",
      "metadata": {
        "id": "view-in-github",
        "colab_type": "text"
      },
      "source": [
        "<a href=\"https://colab.research.google.com/github/Alireza-Pournabavi/GitFL-boxplot/blob/main/GitFL_implemetation.ipynb\" target=\"_parent\"><img src=\"https://colab.research.google.com/assets/colab-badge.svg\" alt=\"Open In Colab\"/></a>"
      ]
    },
    {
      "cell_type": "markdown",
      "metadata": {
        "id": "i6KvQfWUaveh"
      },
      "source": [
        "Source:\n",
        "\n",
        "https://towardsdatascience.com/preserving-data-privacy-in-deep-learning-part-1-a04894f78029"
      ]
    },
    {
      "cell_type": "markdown",
      "metadata": {
        "id": "riKHvguqaBpY"
      },
      "source": [
        "# **1. Import all relevant packages**"
      ]
    },
    {
      "cell_type": "code",
      "execution_count": null,
      "metadata": {
        "id": "otd5c2l8Z3Rf",
        "pycharm": {
          "name": "#%%\n"
        }
      },
      "outputs": [],
      "source": [
        "#### imports library\n",
        "\n",
        "import sys, os\n",
        "import math\n",
        "import time\n",
        "import threading as th\n",
        "import numpy as np\n",
        "import matplotlib.pyplot as plt\n",
        "import pandas as pd\n",
        "from sklearn.metrics import confusion_matrix\n",
        "import torch\n",
        "import torchvision\n",
        "import torch.nn as nn\n",
        "import torch.nn.functional as F\n",
        "import torch.optim as optim\n",
        "from torchvision import datasets, transforms\n",
        "# from femnist_dataset import FEMNIST\n",
        "from torch.utils.data.dataset import Dataset\n",
        "torch.backends.cudnn.benchmark = True"
      ]
    },
    {
      "cell_type": "code",
      "execution_count": null,
      "metadata": {
        "colab": {
          "base_uri": "https://localhost:8080/"
        },
        "id": "ZGGyzgVrvcav",
        "outputId": "2abea20f-fd20-4ace-e7fe-0191215e8bd1"
      },
      "outputs": [
        {
          "output_type": "execute_result",
          "data": {
            "text/plain": [
              "['3.10.12 (main, Nov 20 2023, 15:14:05) [GCC 11.4.0]',\n",
              " 'GPU',\n",
              " ['is available', True],\n",
              " ['device count', 1],\n",
              " ['current device', 0],\n",
              " ['device', <torch.cuda.device at 0x7b9872b8a140>],\n",
              " ['get device name', 'Tesla T4'],\n",
              " ['get_num_threads', 1],\n",
              " 'CPU',\n",
              " ['cpu_count', 2],\n",
              " ['is available', True],\n",
              " ['device count', 1]]"
            ]
          },
          "metadata": {},
          "execution_count": 2
        }
      ],
      "source": [
        "[\n",
        "sys.version,\n",
        "'GPU',\n",
        "['is available', torch.cuda.is_available()],\n",
        "['device count', torch.cuda.device_count()],\n",
        "['current device', torch.cuda.current_device()],\n",
        "['device', torch.cuda.device(0)],\n",
        "['get device name', torch.cuda.get_device_name(0)],\n",
        "['get_num_threads', torch.get_num_threads()],\n",
        "'CPU',\n",
        "['cpu_count', os.cpu_count()],\n",
        "['is available', torch.cpu.is_available()],\n",
        "['device count', torch.cpu.device_count()],\n",
        "]"
      ]
    },
    {
      "cell_type": "markdown",
      "metadata": {
        "collapsed": false,
        "id": "Ed5AzL_wFNl1",
        "pycharm": {
          "name": "#%% md\n"
        }
      },
      "source": [
        "# **2. Loading and Dividing Datasets**"
      ]
    },
    {
      "cell_type": "markdown",
      "metadata": {
        "id": "TWkBdsflXzsH"
      },
      "source": [
        "## 2.0 Plot"
      ]
    },
    {
      "cell_type": "code",
      "execution_count": null,
      "metadata": {
        "id": "na296OFt9oZ0"
      },
      "outputs": [],
      "source": [
        "def plot_distribution(dataloaders, num_client, num_label):\n",
        "  plt.figure()\n",
        "  ax = plt.gca()\n",
        "  left = np.zeros(num_client)\n",
        "  for idx, client in enumerate(dataloaders):\n",
        "    label_count = np.zeros(num_label)\n",
        "    for _, labels in client:\n",
        "      for label in labels:\n",
        "        label_count[label.item()] += 1\n",
        "    for y, cnts in enumerate(label_count):\n",
        "      ax.barh(idx, width=cnts, label=y, left=left[idx])\n",
        "      left[idx] += cnts\n",
        "  plt.grid(axis='y', alpha=0.75)\n",
        "  plt.xlabel('Number of Images')\n",
        "  plt.ylabel('Number of Clients')\n",
        "  plt.title('Data Distribution Among Clients')\n",
        "  plt.show()"
      ]
    },
    {
      "cell_type": "markdown",
      "metadata": {
        "collapsed": false,
        "id": "bBCgprpUFNl2"
      },
      "source": [
        "## 2.1 IID Datasets"
      ]
    },
    {
      "cell_type": "markdown",
      "metadata": {
        "collapsed": false,
        "id": "TzL0kvHYFNl2"
      },
      "source": [
        "### 2.1.1 CIFAR-10"
      ]
    },
    {
      "cell_type": "code",
      "execution_count": null,
      "metadata": {
        "id": "gue_TnZ-Wbzl"
      },
      "outputs": [],
      "source": [
        "#### Loading and Dividing CIFAR-10\n",
        "def iid_cifar10(num_clients, batch_size):\n",
        "    # Image augmentation\n",
        "    transform_train = transforms.Compose([\n",
        "        transforms.ToTensor(),\n",
        "    ])\n",
        "\n",
        "    # Loading CIFAR10 using torchvision.datasets\n",
        "    traindata = datasets.CIFAR10('./data/cifar10', train=True, download=True,\n",
        "                                 transform=transform_train)\n",
        "\n",
        "    # Dividing the training data into num_clients, with each client having equal number of images\n",
        "    traindata_split = torch.utils.data.random_split(traindata, [int(traindata.data.shape[0] / num_clients) for _ in\n",
        "                                                                range(num_clients)])\n",
        "\n",
        "    # Creating a pytorch loader for a Deep Learning model\n",
        "    train_data = [torch.utils.data.DataLoader(x, batch_size=batch_size, shuffle=True) for x in traindata_split]\n",
        "\n",
        "    # Draw a Plot\n",
        "    plot_distribution(train_data, num_clients, len(traindata.classes))\n",
        "\n",
        "    # Normalizing the test images\n",
        "    transform_test = transforms.Compose([\n",
        "        transforms.ToTensor(),\n",
        "    ])\n",
        "\n",
        "    # Loading the test images and thus converting them into a test_loader\n",
        "    test_data = torch.utils.data.DataLoader(datasets.CIFAR10('./data/cifar10', train=False, transform=transform_test), batch_size=batch_size, shuffle=True)\n",
        "\n",
        "    return train_data, test_data"
      ]
    },
    {
      "cell_type": "markdown",
      "metadata": {
        "collapsed": false,
        "id": "XJhsdIfpFNl3"
      },
      "source": [
        "### 2.1.2 CIFAR-100"
      ]
    },
    {
      "cell_type": "code",
      "execution_count": null,
      "metadata": {
        "id": "MthP9vW49dZX"
      },
      "outputs": [],
      "source": [
        "#### Loading and Dividing CIFAR-100\n",
        "def iid_cifar100(num_clients, batch_size):\n",
        "    # Image augmentation\n",
        "    transform_train = transforms.Compose([\n",
        "        transforms.ToTensor(),\n",
        "    ])\n",
        "\n",
        "    # Loading CIFAR100\n",
        "    traindata = datasets.CIFAR100('./data/cifar100', train=True, download=True, transform=transform_train)\n",
        "\n",
        "    # Dividing the training data into num_clients, with each client having equal number of images\n",
        "    traindata_split = torch.utils.data.random_split(traindata, [int(traindata.data.shape[0] / num_clients) for _ in\n",
        "                                                                range(num_clients)])\n",
        "\n",
        "    # Creating a pytorch loader for a Deep Learning model\n",
        "    train_data = [torch.utils.data.DataLoader(x, batch_size=batch_size, shuffle=True) for x in traindata_split]\n",
        "\n",
        "    # Draw a Plot\n",
        "    plot_distribution(train_data, num_clients, len(traindata.classes))\n",
        "\n",
        "    # Normalizing the test images\n",
        "    transform_test = transforms.Compose([\n",
        "        transforms.ToTensor(),\n",
        "    ])\n",
        "\n",
        "    # Loading the test images and thus converting them into a test_loader\n",
        "    test_data = torch.utils.data.DataLoader(datasets.CIFAR100('./data/cifar100', train=False, transform=transform_test), batch_size=batch_size, shuffle=True)\n",
        "\n",
        "    return train_data, test_data"
      ]
    },
    {
      "cell_type": "markdown",
      "metadata": {
        "id": "vp6p9_78FXuF"
      },
      "source": [
        "### 2.1.3 EMNIST"
      ]
    },
    {
      "cell_type": "code",
      "execution_count": null,
      "metadata": {
        "id": "p7leAqXR_vea"
      },
      "outputs": [],
      "source": [
        "#### Loading and Dividing EMNIST\n",
        "def iid_emnist(num_clients, batch_size):\n",
        "    # Image augmentation\n",
        "    transform_train = transforms.Compose([\n",
        "        transforms.ToTensor(),\n",
        "    ])\n",
        "\n",
        "    # Loading EMNIST using torchvision.datasets\n",
        "    traindata = datasets.EMNIST('./data/emnist', train=True, download=True, transform=transform_train)\n",
        "\n",
        "    # Dividing the training data into num_clients, with each client having equal number of images\n",
        "    traindata_split = torch.utils.data.random_split(traindata, [int(traindata.data.shape[0] / num_clients) for _ in\n",
        "                                                                range(num_clients)])\n",
        "\n",
        "    # Creating a pytorch loader for a Deep Learning model\n",
        "    train_data = [torch.utils.data.DataLoader(x, batch_size=batch_size, shuffle=True) for x in traindata_split]\n",
        "\n",
        "    # Draw a Plot\n",
        "    plot_distribution(train_data, num_clients, len(traindata.classes))\n",
        "\n",
        "    # Normalizing the test images\n",
        "    transform_test = transforms.Compose([\n",
        "        transforms.ToTensor(),\n",
        "    ])\n",
        "\n",
        "    # Loading the test images and thus converting them into a test_loader\n",
        "    test_data = torch.utils.data.DataLoader(datasets.EMNIST('./data/emnist', train=False, transform=transform_test), batch_size=batch_size, shuffle=True)\n",
        "\n",
        "    return train_data, test_data"
      ]
    },
    {
      "cell_type": "markdown",
      "metadata": {
        "id": "2n61dW94FwVN"
      },
      "source": [
        "## 2.2 Non-IID Datasets"
      ]
    },
    {
      "cell_type": "markdown",
      "metadata": {
        "id": "mF1IVKE1Fruu"
      },
      "source": [
        "### 2.2.1 CIFAR-10"
      ]
    },
    {
      "cell_type": "code",
      "execution_count": null,
      "metadata": {
        "id": "ZY9yP3nLKtx6"
      },
      "outputs": [],
      "source": [
        "#### Loading and Dividing CIFAR-10\n",
        "def non_iid_cifar10(num_clients, batch_size, alpha):\n",
        "    # Image augmentation\n",
        "    transform_train = transforms.Compose([\n",
        "        transforms.ToTensor(),\n",
        "    ])\n",
        "\n",
        "    # Loading CIFAR10 using torchvision.datasets\n",
        "    traindata = datasets.CIFAR10('./data/cifar10', train=True, download=True,\n",
        "                                 transform=transform_train)\n",
        "\n",
        "    # Get the targets and count the number of classes\n",
        "    targets = np.array(traindata.targets)\n",
        "    num_classes = np.max(targets) + 1\n",
        "\n",
        "    # Create a list to hold data indices for each client\n",
        "    client_dict = {i: [] for i in range(num_clients)}\n",
        "\n",
        "    # For each class, split the data across the clients using Dirichlet distribution\n",
        "    for k in range(num_classes):\n",
        "        idx_k = np.where(targets == k)[0]\n",
        "        np.random.shuffle(idx_k)\n",
        "        proportions = np.random.dirichlet(np.repeat(alpha, num_clients))\n",
        "        # Get the number of samples for each client\n",
        "        num_samples_per_client = np.round(proportions * len(idx_k)).astype(int)\n",
        "        # Correct any rounding errors\n",
        "        num_samples_per_client[-1] = len(idx_k) - np.sum(num_samples_per_client[:-1])\n",
        "\n",
        "        start = 0\n",
        "        for i in range(num_clients):\n",
        "            size = num_samples_per_client[i]\n",
        "            client_dict[i].extend(idx_k[start:start+size])\n",
        "            start += size\n",
        "\n",
        "    # Create a data loader for each client\n",
        "    train_data = [torch.utils.data.DataLoader(torch.utils.data.Subset(traindata, client_dict[i]), batch_size=batch_size, shuffle=True) for i in range(num_clients)]\n",
        "\n",
        "    # Draw a Plot\n",
        "    plot_distribution(train_data, num_clients, len(traindata.classes))\n",
        "\n",
        "    # Normalizing the test images\n",
        "    transform_test = transforms.Compose([\n",
        "        transforms.ToTensor(),\n",
        "    ])\n",
        "\n",
        "    # Loading the test images and thus converting them into a test_loader\n",
        "    test_data = torch.utils.data.DataLoader(datasets.CIFAR10('./data/cifar10', train=False, transform=transform_test), batch_size=batch_size, shuffle=True)\n",
        "\n",
        "    return train_data, test_data"
      ]
    },
    {
      "cell_type": "markdown",
      "metadata": {
        "id": "B76jjVedF6Wt"
      },
      "source": [
        "### 2.2.2 CIFAR-100"
      ]
    },
    {
      "cell_type": "code",
      "execution_count": null,
      "metadata": {
        "id": "pPxQWWAZrWD9"
      },
      "outputs": [],
      "source": [
        "#### Loading and Dividing CIFAR-100\n",
        "def non_iid_cifar100(num_clients, batch_size, alpha):\n",
        "    # Image augmentation\n",
        "    transform_train = transforms.Compose([\n",
        "        transforms.ToTensor(),\n",
        "    ])\n",
        "\n",
        "    # Loading CIFAR100 using torchvision.datasets\n",
        "    traindata = datasets.CIFAR100('./data/cifar100', train=True, download=True,\n",
        "                                 transform=transform_train)\n",
        "\n",
        "    # Get the targets and count the number of classes\n",
        "    targets = np.array(traindata.targets)\n",
        "    num_classes = np.max(targets) + 1\n",
        "\n",
        "    # Create a list to hold data indices for each client\n",
        "    client_dict = {i: [] for i in range(num_clients)}\n",
        "\n",
        "    # For each class, split the data across the clients using Dirichlet distribution\n",
        "    for k in range(num_classes):\n",
        "        idx_k = np.where(targets == k)[0]\n",
        "        np.random.shuffle(idx_k)\n",
        "        proportions = np.random.dirichlet(np.repeat(alpha, num_clients))\n",
        "        # Get the number of samples for each client\n",
        "        num_samples_per_client = np.round(proportions * len(idx_k)).astype(int)\n",
        "        # Correct any rounding errors\n",
        "        num_samples_per_client[-1] = len(idx_k) - np.sum(num_samples_per_client[:-1])\n",
        "\n",
        "        start = 0\n",
        "        for i in range(num_clients):\n",
        "            size = num_samples_per_client[i]\n",
        "            client_dict[i].extend(idx_k[start:start+size])\n",
        "            start += size\n",
        "\n",
        "    # Create a data loader for each client\n",
        "    train_data = [torch.utils.data.DataLoader(torch.utils.data.Subset(traindata, client_dict[i]), batch_size=batch_size, shuffle=True) for i in range(num_clients)]\n",
        "\n",
        "    # Draw a Plot\n",
        "    plot_distribution(train_data, num_clients, len(traindata.classes))\n",
        "\n",
        "    # Normalizing the test images\n",
        "    transform_test = transforms.Compose([\n",
        "        transforms.ToTensor(),\n",
        "    ])\n",
        "\n",
        "    # Loading the test images and thus converting them into a test_loader\n",
        "    test_data = torch.utils.data.DataLoader(datasets.CIFAR100('./data/cifar100', train=False, transform=transform_test), batch_size=batch_size, shuffle=True)\n",
        "\n",
        "    return train_data, test_data"
      ]
    },
    {
      "cell_type": "markdown",
      "metadata": {
        "id": "7WydeyIsGMcO"
      },
      "source": [
        "### 2.2.3 EMNIST"
      ]
    },
    {
      "cell_type": "code",
      "execution_count": null,
      "metadata": {
        "id": "00b7fyhary_-"
      },
      "outputs": [],
      "source": [
        "#### Loading and Dividing EMNIST\n",
        "def non_iid_emnist(num_clients, batch_size, alpha):\n",
        "    # Image augmentation\n",
        "    transform_train = transforms.Compose([\n",
        "        transforms.ToTensor(),\n",
        "    ])\n",
        "\n",
        "    # Loading EMNIST using torchvision.datasets\n",
        "    traindata = datasets.EMNIST('./data/emnist', train=True, download=True,\n",
        "                                 transform=transform_train)\n",
        "\n",
        "    # Get the targets and count the number of classes\n",
        "    targets = np.array(traindata.targets)\n",
        "    num_classes = np.max(targets) + 1\n",
        "\n",
        "    # Create a list to hold data indices for each client\n",
        "    client_dict = {i: [] for i in range(num_clients)}\n",
        "\n",
        "    # For each class, split the data across the clients using Dirichlet distribution\n",
        "    for k in range(num_classes):\n",
        "        idx_k = np.where(targets == k)[0]\n",
        "        np.random.shuffle(idx_k)\n",
        "        proportions = np.random.dirichlet(np.repeat(alpha, num_clients))\n",
        "        # Get the number of samples for each client\n",
        "        num_samples_per_client = np.round(proportions * len(idx_k)).astype(int)\n",
        "        # Correct any rounding errors\n",
        "        num_samples_per_client[-1] = len(idx_k) - np.sum(num_samples_per_client[:-1])\n",
        "\n",
        "        start = 0\n",
        "        for i in range(num_clients):\n",
        "            size = num_samples_per_client[i]\n",
        "            client_dict[i].extend(idx_k[start:start+size])\n",
        "            start += size\n",
        "\n",
        "    # Create a data loader for each client\n",
        "    train_data = [torch.utils.data.DataLoader(torch.utils.data.Subset(traindata, client_dict[i]), batch_size=batch_size, shuffle=True) for i in range(num_clients)]\n",
        "\n",
        "    # Draw a Plot\n",
        "    plot_distribution(train_data, num_clients, len(traindata.classes))\n",
        "\n",
        "    # Normalizing the test images\n",
        "    transform_test = transforms.Compose([\n",
        "        transforms.ToTensor(),\n",
        "    ])\n",
        "\n",
        "    # Loading the test images and thus converting them into a test_loader\n",
        "    test_data = torch.utils.data.DataLoader(datasets.EMNIST('./data/emnist', train=False, transform=transform_test), batch_size=batch_size, shuffle=True)\n",
        "\n",
        "    return train_data, test_data"
      ]
    },
    {
      "cell_type": "markdown",
      "metadata": {
        "id": "J1DJLK0bHj5m"
      },
      "source": [
        "# **3. GitFL - Adaptive Asynchronous Federated Learning**"
      ]
    },
    {
      "cell_type": "markdown",
      "metadata": {
        "id": "_o5XBCeJHwKG"
      },
      "source": [
        "### 3.1 Merging"
      ]
    },
    {
      "cell_type": "code",
      "execution_count": null,
      "metadata": {
        "id": "cbCl212PTGrE"
      },
      "outputs": [],
      "source": [
        "#### Asynchronous Federated Learning\n",
        "def merging(global_model, client_models, versions, global_opt, opt):\n",
        "    # Create Dataframe with client_models, optimizer, versions\n",
        "    df = pd.DataFrame(list(zip(client_models, opt, versions)),\n",
        "                      columns=['client_models', 'optimizer', 'versions'])\n",
        "\n",
        "    # boxplots calculations and Remove Outlier Versions\n",
        "    df = df.sort_values(by='versions')\n",
        "\n",
        "    q1 = df['versions'].quantile(0.25)\n",
        "    q3 = df['versions'].quantile(0.75)\n",
        "    iqr = q3 - q1\n",
        "    qmin = q1 - (1.5 * iqr)\n",
        "    qmax = q3 + (1.5 * iqr)\n",
        "    mini = df['versions'].quantile(0)\n",
        "    maxi = df['versions'].quantile(1)\n",
        "\n",
        "    if mini > qmin:\n",
        "        minimum = mini\n",
        "    else:\n",
        "        minimum = qmin\n",
        "\n",
        "    if maxi <= qmax:\n",
        "        maximum = maxi\n",
        "    else:\n",
        "        maximum = qmax\n",
        "\n",
        "    for i, row in df['versions'].items():\n",
        "        if row < minimum or maximum < row:\n",
        "            df = df.drop(index=i)\n",
        "\n",
        "    # Update Parameter and Merge & Average Layers Weight by Ensemble Learning\n",
        "    parameter_state_dict = {}\n",
        "    for key in global_model.state_dict():\n",
        "        x = 0\n",
        "        for _, client in df.iterrows():\n",
        "            if client['versions'] == 0:\n",
        "                # print(f\"Warning: version for client is zero\")\n",
        "                pass\n",
        "            elif torch.isnan(client['client_models'].state_dict()[key]).any():\n",
        "                # print(f\"Warning: NaN detected in parameters for client\")\n",
        "                pass\n",
        "            else:\n",
        "                x += client['client_models'].state_dict()[key] * client['versions']\n",
        "\n",
        "        try:\n",
        "            parameter_state_dict[key] = x / sum(df['versions'])\n",
        "        except ZeroDivisionError:\n",
        "            # print(\"model exception\")\n",
        "            parameter_state_dict[key] = global_model.state_dict()[key]\n",
        "    global_model.load_state_dict(parameter_state_dict)\n",
        "\n",
        "    # Update Hyper Parameter and Merge & Average Optimization Parameter\n",
        "    for key in ['lr', 'momentum', 'dampening', 'weight_decay']:\n",
        "        x = 0\n",
        "        for _, client in df.iterrows():\n",
        "            if client['versions'] == 0:\n",
        "                # print(f\"Warning: version for client is zero\")\n",
        "                pass\n",
        "            else:\n",
        "                x += client['optimizer'].state_dict()['param_groups'][0][key] * client['versions']\n",
        "        try:\n",
        "            global_opt.state_dict()['param_groups'][0][key] = x / sum(df['versions'])\n",
        "        except ZeroDivisionError:\n",
        "            # print(\"opt exception\")\n",
        "            global_opt.state_dict()['param_groups'][0][key] = global_opt.state_dict()['param_groups'][0][key]\n",
        "\n",
        "    return global_model, global_opt"
      ]
    },
    {
      "cell_type": "markdown",
      "metadata": {
        "id": "K7LOZBp8ICoW"
      },
      "source": [
        "### 3.2 Version Control"
      ]
    },
    {
      "cell_type": "code",
      "execution_count": null,
      "metadata": {
        "id": "tikiX0sFVQw-"
      },
      "outputs": [],
      "source": [
        "def version_control(versions):\n",
        "    sum_versions = sum(versions)\n",
        "    v_ctrl = []\n",
        "    for i in versions:\n",
        "        v_ctrl.append((i - sum_versions) / len(versions))\n",
        "    return v_ctrl"
      ]
    },
    {
      "cell_type": "markdown",
      "metadata": {
        "id": "WyAi1-X5ILku"
      },
      "source": [
        "### 3.3 Client Selection"
      ]
    },
    {
      "cell_type": "code",
      "execution_count": null,
      "metadata": {
        "id": "xuGktCQtVWoi"
      },
      "outputs": [],
      "source": [
        "def client_selection(Tc, Tt, v_ctrl, active_client):\n",
        "    # Calculate Version Reward (Rv)\n",
        "    sum_Tt = sum(Tt) / len(Tt)\n",
        "    max_Tt = max(Tt)\n",
        "    sum_max_Tt = []\n",
        "    for i in Tt:\n",
        "        x = (i - sum_Tt)\n",
        "        try:\n",
        "            x /= max_Tt\n",
        "        except ZeroDivisionError:\n",
        "            x = 0\n",
        "        sum_max_Tt.append(x)\n",
        "    Rv = [a * b for a, b in zip(sum_max_Tt, v_ctrl)]\n",
        "\n",
        "    # Calculate Curiosity Reward (Rc)\n",
        "    Rc = []\n",
        "    for i in Tc:\n",
        "        try:\n",
        "            Rc.append(1 / math.sqrt(i))\n",
        "        except ZeroDivisionError:\n",
        "            Rc.append(0)\n",
        "\n",
        "    # Calculate Version-Curiosity Reward (R)\n",
        "    R_sum = [a + b for a, b in zip(Rv, Rc)]\n",
        "    R = [max(0, r) for r in R_sum]\n",
        "\n",
        "    # Calculate Price (P)\n",
        "    sum_R = sum(R)\n",
        "    P = []\n",
        "    for i in R:\n",
        "        try:\n",
        "            P.append(i / sum_R)\n",
        "        except ZeroDivisionError:\n",
        "            P.append(0)\n",
        "\n",
        "    # Select High Price Client then Not Active\n",
        "    maxi = 0\n",
        "    client_index = None\n",
        "    for i, value in enumerate(P):\n",
        "        if value >= maxi:\n",
        "            if i not in active_client:\n",
        "                maxi = value\n",
        "                client_index = i\n",
        "    active_client.append(client_index)\n",
        "\n",
        "    return client_index"
      ]
    },
    {
      "cell_type": "markdown",
      "metadata": {
        "id": "apwMG1yOIUe2"
      },
      "source": [
        "### 3.4 Model Pull"
      ]
    },
    {
      "cell_type": "code",
      "execution_count": null,
      "metadata": {
        "id": "HQ2ttOdlVb_e"
      },
      "outputs": [],
      "source": [
        "def model_pull(global_model, client_model, global_opt, opt, v_ctrl):\n",
        "    y_max = max(10 + v_ctrl, 2)\n",
        "\n",
        "    # Aggregation Parameter of Client Model and Global Model\n",
        "    parameter_state_dict = {}\n",
        "    for key in global_model.state_dict():\n",
        "        x = y_max * client_model.state_dict()[key] + global_model.state_dict()[key]\n",
        "        parameter_state_dict[key] = x / (y_max + 1)\n",
        "    client_model.load_state_dict(parameter_state_dict)\n",
        "\n",
        "    # Aggregation Optimization Hyper Parameter of Client Model and Global Model\n",
        "    for key in ['lr', 'momentum', 'dampening', 'weight_decay']:\n",
        "        x = y_max * opt.state_dict()['param_groups'][0][key] + global_opt.state_dict()['param_groups'][0][key]\n",
        "        opt.state_dict()['param_groups'][0][key] = x / (y_max + 1)\n",
        "\n",
        "    return client_model, opt"
      ]
    },
    {
      "cell_type": "markdown",
      "metadata": {
        "id": "RVD3uddrIb5V"
      },
      "source": [
        "### 3.5 Local Training"
      ]
    },
    {
      "cell_type": "code",
      "execution_count": null,
      "metadata": {
        "id": "eALtuczmVft3"
      },
      "outputs": [],
      "source": [
        "torch.autograd.set_detect_anomaly(True)\n",
        "def local_training(model_client, opt_client, train_loader, epoch=5):\n",
        "    \"\"\"\n",
        "    This function updates/trains client model on client data\n",
        "    \"\"\"\n",
        "    model_client.train()\n",
        "    for e in range(epoch):\n",
        "        for batch_idx, (data, target) in enumerate(train_loader):\n",
        "            data, target = data.cuda(), target.cuda()\n",
        "            opt_client.zero_grad()\n",
        "            output = model_client(data)\n",
        "            loss = F.cross_entropy(output, target)\n",
        "            loss.backward()\n",
        "            opt_client.step()\n",
        "\n",
        "    return model_client, opt_client"
      ]
    },
    {
      "cell_type": "markdown",
      "metadata": {
        "id": "tZ1OaBPOsZob"
      },
      "source": [
        "### 3.6 Test Function"
      ]
    },
    {
      "cell_type": "code",
      "execution_count": null,
      "metadata": {
        "id": "F_MKzP4psaUD"
      },
      "outputs": [],
      "source": [
        "def test(global_model, test_loader, client_idx, rnd):\n",
        "  # Ensure the model is in evaluation mode\n",
        "  global_model.eval()\n",
        "\n",
        "  # Lists to store actual and predicted labels\n",
        "  y_test = []\n",
        "  y_pred = []\n",
        "\n",
        "  with torch.no_grad():\n",
        "    for data, target in test_loader:\n",
        "      data, target = data.cuda(), target.cuda()\n",
        "\n",
        "      # Assuming your data is on the same device as your model\n",
        "      output = global_model(data)\n",
        "\n",
        "      # Get the predicted classes\n",
        "      pred = output.argmax(dim=1, keepdim=True)\n",
        "\n",
        "      y_test.extend(target.tolist())\n",
        "      y_pred.extend(pred.reshape(-1).tolist())\n",
        "\n",
        "  # Calculate confusion matrix\n",
        "  cm = confusion_matrix(y_test, y_pred)\n",
        "\n",
        "  # Calculate accuracy from confusion matrix\n",
        "  accuracy = np.trace(cm) / float(np.sum(cm))\n",
        "\n",
        "  print(\"Test Accuracy: \", accuracy)\n",
        "  with open(\"acc_output.csv\", \"a\") as file:\n",
        "    file.write(str(rnd) + ',\\t' + str(client_idx) + ',\\t' + str(accuracy) + '\\n')"
      ]
    },
    {
      "cell_type": "markdown",
      "metadata": {
        "id": "spUB7WCnIjbu"
      },
      "source": [
        "### 3.7 Main Route for GitFL"
      ]
    },
    {
      "cell_type": "code",
      "execution_count": null,
      "metadata": {
        "id": "GoiC2s_YVjaq"
      },
      "outputs": [],
      "source": [
        "def train(local_client, num_rounds, global_model, client_models, global_opt, opt, versions, Tc, Tt, active_client,\n",
        "          epochs, train_loader, test_loader, lock):\n",
        "    for rnd in range(int(num_rounds)):\n",
        "        # Merging\n",
        "        global_model, global_opt = merging(global_model, client_models, versions, global_opt, opt)\n",
        "        # Version Control\n",
        "        v_ctrl = version_control(versions)\n",
        "        # Client Selection\n",
        "        client_idx = client_selection(Tc, Tt, v_ctrl, active_client)\n",
        "        # Model Pulling\n",
        "        model_client, opt_client = model_pull(global_model, client_models[client_idx], global_opt, opt[client_idx],\n",
        "                                              v_ctrl[client_idx])\n",
        "        # time start\n",
        "        start_time = time.time()\n",
        "        # Local\n",
        "        lock.acquire()\n",
        "        model_client, opt_client = local_training(model_client, opt_client, train_loader[client_idx], epochs)\n",
        "        lock.release()\n",
        "        # delta time\n",
        "        delta_time = time.time() - start_time\n",
        "        print('Training Time: ', delta_time)\n",
        "        # Update Versions\n",
        "        versions[client_idx] = versions[client_idx] + 1\n",
        "        # Model Pushing - update local model\n",
        "        client_models[client_idx], opt[client_idx] = model_client, opt_client\n",
        "        # Update Tc\n",
        "        Tc[client_idx] = Tc[client_idx] + 1\n",
        "        # Update Tt\n",
        "        Tt[client_idx] = Tt[client_idx] + 1\n",
        "        # Test Accuracy\n",
        "        test(global_model, test_loader, local_client, rnd)\n",
        "        # Remove client from active client\n",
        "        print('local Client: {} Round: {}\\nVersion: {}'.format(local_client, rnd, versions))\n",
        "        print('Active Clients:', active_client)\n",
        "        active_client.remove(client_idx)"
      ]
    },
    {
      "cell_type": "markdown",
      "metadata": {
        "id": "TXLvLoCuIwPt"
      },
      "source": [
        "# **4. Asynchronous Parallel Training**"
      ]
    },
    {
      "cell_type": "markdown",
      "metadata": {
        "id": "efcU4bFek2m3"
      },
      "source": [
        "## 4.1 Set Hyperparameters"
      ]
    },
    {
      "cell_type": "code",
      "execution_count": null,
      "metadata": {
        "id": "3gRoxmadV8mD"
      },
      "outputs": [],
      "source": [
        "#### Set Hyperparameters\n",
        "num_clients = 20\n",
        "num_selected = 2\n",
        "num_rounds = 3 # another round test is 200\n",
        "epochs = 5\n",
        "batch_size = 50"
      ]
    },
    {
      "cell_type": "markdown",
      "metadata": {
        "id": "iDO3gLplk__m"
      },
      "source": [
        "## 4.2 Create CNN Neural Network"
      ]
    },
    {
      "cell_type": "code",
      "execution_count": null,
      "metadata": {
        "id": "zacSMWuvkFmq"
      },
      "outputs": [],
      "source": [
        "#### Create CNN Neural Network\n",
        "class CNN(nn.Module):\n",
        "  def __init__(self):\n",
        "    super(CNN, self).__init__()\n",
        "    self.conv1 = nn.Conv2d(1, 32, kernel_size=5)\n",
        "    self.conv2 = nn.Conv2d(32, 64, kernel_size=5)\n",
        "    self.dropout1 = nn.Dropout2d(0.25)\n",
        "    self.dropout2 = nn.Dropout2d(0.5)\n",
        "    self.fc1 = nn.Linear(9216, 128)\n",
        "    self.fc2 = nn.Linear(128, 10)\n",
        "\n",
        "  def forward(self, x):\n",
        "    x = self.conv1(x)\n",
        "    x = nn.functional.relu(x)\n",
        "    x = nn.functional.max_pool2d(x, 2)\n",
        "    x = self.conv2(x)\n",
        "    x = nn.functional.relu(x)\n",
        "    x = nn.functional.max_pool2d(x, 2)\n",
        "    x = self.dropout1(x)\n",
        "    x = torch.flatten(x, 1)\n",
        "    x = self.fc1(x)\n",
        "    x = nn.functional.relu(x)\n",
        "    x = self.dropout2(x)\n",
        "    x = self.fc2(x)\n",
        "    output = nn.functional.log_softmax(x, dim=1)\n",
        "    return output"
      ]
    },
    {
      "cell_type": "markdown",
      "metadata": {
        "id": "HLSuKVF6mJ7s"
      },
      "source": [
        "## 4.3 Parallel Processing"
      ]
    },
    {
      "cell_type": "code",
      "execution_count": null,
      "metadata": {
        "id": "duqM2UGZZQyg"
      },
      "outputs": [],
      "source": [
        "#### Initialize Model\n",
        "def process(model, train_loader, test_loader):\n",
        "    # Global Model\n",
        "    global_model = model.cuda()\n",
        "    global_model.share_memory()\n",
        "\n",
        "    # Client Models\n",
        "    client_models = [model.cuda() for _ in range(num_clients)]\n",
        "    for model in client_models:\n",
        "        model.load_state_dict(global_model.state_dict())  # initial synchronizing with global model\n",
        "        model.share_memory()\n",
        "\n",
        "    # Optimizers\n",
        "    global_opt = optim.SGD(global_model.parameters(), lr=0.01, momentum=0.5)\n",
        "    opt = [optim.SGD(model.parameters(), lr=0.01, momentum=0.5) for model in client_models]\n",
        "\n",
        "    # Version Controls Lists for Client Selection\n",
        "    versions = np.zeros(num_clients).tolist()\n",
        "    Tc = np.zeros(num_clients).tolist()\n",
        "    Tt = np.zeros(num_clients).tolist()\n",
        "    active_client = []\n",
        "\n",
        "    #### Asynchronous Parallel Processing\n",
        "    lock = th.Lock()\n",
        "    processes = []\n",
        "    for local_client in range(num_selected):\n",
        "        t = th.Thread(target=train, args=(str(local_client), str(num_rounds), global_model, client_models, global_opt,\n",
        "                                            opt, versions, Tc, Tt, active_client, epochs, train_loader, test_loader, lock))\n",
        "        t.start()\n",
        "        time.sleep(1)\n",
        "        processes.append(t)\n",
        "\n",
        "    for p in processes:\n",
        "        p.join()\n",
        "\n",
        "    global_model, _ = merging(global_model, client_models, versions, global_opt, opt)\n",
        "    test(global_model, test_loader, client_idx=101, rnd=101)"
      ]
    },
    {
      "cell_type": "code",
      "execution_count": null,
      "metadata": {
        "colab": {
          "base_uri": "https://localhost:8080/"
        },
        "id": "92OzdQNha6j-",
        "outputId": "78c86982-5ebd-4413-9210-596918bdd29d"
      },
      "outputs": [
        {
          "output_type": "execute_result",
          "data": {
            "text/plain": [
              "\"\\n# Final Merging\\nmerging(global_model, client_models, versions, global_opt, opt)\\n\\n# Start Timer\\nstart_time = time.mktime(time.gmtime(time.time()))\\n\\n# Calculate Delta Time\\ndelta_time = int(time.mktime(time.gmtime(time.time())) - start_time)\\nprint('delta-time: ', delta_time)\\n\\n# Final Test\\ntest(global_model, test_loader, client_idx=101, rnd=101)\\n\\n# Calculate Communication Overhead\\ndata_size = int(sys.getsizeof(pd.DataFrame(train_loader))) + int(sys.getsizeof(pd.DataFrame(test_loader)))\\nmodel_size = int(sys.getsizeof(torch.save(global_model.state_dict(), buf)))\\ncomm_overhead = num_rounds * model_size * num_clients * data_size\\nprint('communication overhead: ', comm_overhead)\\n\""
            ],
            "application/vnd.google.colaboratory.intrinsic+json": {
              "type": "string"
            }
          },
          "metadata": {},
          "execution_count": 20
        }
      ],
      "source": [
        "    \"\"\"\n",
        "    # Final Merging\n",
        "    merging(global_model, client_models, versions, global_opt, opt)\n",
        "\n",
        "    # Start Timer\n",
        "    start_time = time.mktime(time.gmtime(time.time()))\n",
        "\n",
        "    # Calculate Delta Time\n",
        "    delta_time = int(time.mktime(time.gmtime(time.time())) - start_time)\n",
        "    print('delta-time: ', delta_time)\n",
        "\n",
        "    # Final Test\n",
        "    test(global_model, test_loader, client_idx=101, rnd=101)\n",
        "\n",
        "    # Calculate Communication Overhead\n",
        "    data_size = int(sys.getsizeof(pd.DataFrame(train_loader))) + int(sys.getsizeof(pd.DataFrame(test_loader)))\n",
        "    model_size = int(sys.getsizeof(torch.save(global_model.state_dict(), buf)))\n",
        "    comm_overhead = num_rounds * model_size * num_clients * data_size\n",
        "    print('communication overhead: ', comm_overhead)\n",
        "    \"\"\""
      ]
    },
    {
      "cell_type": "markdown",
      "metadata": {
        "id": "tO251Vb6nB9V"
      },
      "source": [
        "## 4.4 Combining Datasets and Neural Networks"
      ]
    },
    {
      "cell_type": "markdown",
      "metadata": {
        "id": "4XeV5x9tnblV"
      },
      "source": [
        "### 4.4.1 VGG-16 - CIFAR-10 - alpha 0.1"
      ]
    },
    {
      "cell_type": "code",
      "execution_count": null,
      "metadata": {
        "colab": {
          "base_uri": "https://localhost:8080/",
          "height": 489
        },
        "id": "FG2on2B6jVmd",
        "outputId": "006c6e69-9699-44bc-e726-07b046d9e97b"
      },
      "outputs": [
        {
          "output_type": "stream",
          "name": "stdout",
          "text": [
            "Files already downloaded and verified\n"
          ]
        },
        {
          "output_type": "display_data",
          "data": {
            "text/plain": [
              "<Figure size 640x480 with 1 Axes>"
            ],
            "image/png": "[encoded data removed]"
          },
          "metadata": {}
        }
      ],
      "source": [
        "train_loader, test_loader = non_iid_cifar10(num_clients, batch_size, 0.1)"
      ]
    },
    {
      "cell_type": "code",
      "execution_count": null,
      "metadata": {
        "colab": {
          "base_uri": "https://localhost:8080/"
        },
        "id": "76zmeE1SHb2n",
        "outputId": "3926410b-3554-4396-dcb1-5024327aaed8"
      },
      "outputs": [
        {
          "metadata": {
            "tags": null
          },
          "name": "stderr",
          "output_type": "stream",
          "text": [
            "/usr/local/lib/python3.10/dist-packages/torch/autograd/__init__.py:266: UserWarning: Error detected in ConvolutionBackward0. Traceback of forward call that caused the error:\n",
            "  File \"/usr/lib/python3.10/threading.py\", line 973, in _bootstrap\n",
            "    self._bootstrap_inner()\n",
            "  File \"/usr/lib/python3.10/threading.py\", line 1016, in _bootstrap_inner\n",
            "    self.run()\n",
            "  File \"/usr/lib/python3.10/threading.py\", line 953, in run\n",
            "    self._target(*self._args, **self._kwargs)\n",
            "  File \"<ipython-input-16-2b3149fc8712>\", line 17, in train\n",
            "    model_client, opt_client = local_training(model_client, opt_client, train_loader[client_idx], epochs)\n",
            "  File \"<ipython-input-14-8f0b330cbd23>\", line 11, in local_training\n",
            "    output = model_client(data)\n",
            "  File \"/usr/local/lib/python3.10/dist-packages/torch/nn/modules/module.py\", line 1511, in _wrapped_call_impl\n",
            "    return self._call_impl(*args, **kwargs)\n",
            "  File \"/usr/local/lib/python3.10/dist-packages/torch/nn/modules/module.py\", line 1520, in _call_impl\n",
            "    return forward_call(*args, **kwargs)\n",
            "  File \"/usr/local/lib/python3.10/dist-packages/torchvision/models/vgg.py\", line 66, in forward\n",
            "    x = self.features(x)\n",
            "  File \"/usr/local/lib/python3.10/dist-packages/torch/nn/modules/module.py\", line 1511, in _wrapped_call_impl\n",
            "    return self._call_impl(*args, **kwargs)\n",
            "  File \"/usr/local/lib/python3.10/dist-packages/torch/nn/modules/module.py\", line 1520, in _call_impl\n",
            "    return forward_call(*args, **kwargs)\n",
            "  File \"/usr/local/lib/python3.10/dist-packages/torch/nn/modules/container.py\", line 217, in forward\n",
            "    input = module(input)\n",
            "  File \"/usr/local/lib/python3.10/dist-packages/torch/nn/modules/module.py\", line 1511, in _wrapped_call_impl\n",
            "    return self._call_impl(*args, **kwargs)\n",
            "  File \"/usr/local/lib/python3.10/dist-packages/torch/nn/modules/module.py\", line 1520, in _call_impl\n",
            "    return forward_call(*args, **kwargs)\n",
            "  File \"/usr/local/lib/python3.10/dist-packages/torch/nn/modules/conv.py\", line 460, in forward\n",
            "    return self._conv_forward(input, self.weight, self.bias)\n",
            "  File \"/usr/local/lib/python3.10/dist-packages/torch/nn/modules/conv.py\", line 456, in _conv_forward\n",
            "    return F.conv2d(input, weight, bias, self.stride,\n",
            " (Triggered internally at ../torch/csrc/autograd/python_anomaly_mode.cpp:113.)\n",
            "  Variable._execution_engine.run_backward(  # Calls into the C++ engine to run the backward pass\n",
            "Exception in thread Thread-12 (train):\n",
            "Traceback (most recent call last):\n",
            "  File \"/usr/lib/python3.10/threading.py\", line 1016, in _bootstrap_inner\n",
            "    self.run()\n",
            "  File \"/usr/lib/python3.10/threading.py\", line 953, in run\n",
            "    self._target(*self._args, **self._kwargs)\n",
            "  File \"<ipython-input-16-2b3149fc8712>\", line 17, in train\n",
            "  File \"<ipython-input-14-8f0b330cbd23>\", line 13, in local_training\n",
            "  File \"/usr/local/lib/python3.10/dist-packages/torch/_tensor.py\", line 522, in backward\n",
            "    torch.autograd.backward(\n",
            "  File \"/usr/local/lib/python3.10/dist-packages/torch/autograd/__init__.py\", line 266, in backward\n",
            "    Variable._execution_engine.run_backward(  # Calls into the C++ engine to run the backward pass\n",
            "RuntimeError: one of the variables needed for gradient computation has been modified by an inplace operation: [torch.cuda.FloatTensor [512, 512, 3, 3]] is at version 37; expected version 36 instead. Hint: the backtrace further above shows the operation that failed to compute its gradient. The variable in question was changed in there or anywhere later. Good luck!\n"
          ]
        }
      ],
      "source": [
        "process(torchvision.models.vgg16(), train_loader, test_loader)"
      ]
    },
    {
      "cell_type": "markdown",
      "metadata": {
        "id": "xQgHnI9AnzX2"
      },
      "source": [
        "### 4.4.2 VGG-16 - CIFAR-10 - alpha 0.5"
      ]
    },
    {
      "cell_type": "code",
      "execution_count": null,
      "metadata": {
        "id": "Zt-UTHFxW6_b"
      },
      "outputs": [],
      "source": [
        "train_loader, test_loader = non_iid_cifar10(num_clients, batch_size, 0.5)\n",
        "process(torchvision.models.vgg16(), train_loader, test_loader)"
      ]
    },
    {
      "cell_type": "markdown",
      "metadata": {
        "id": "rQrTOujNoAFn"
      },
      "source": [
        "### 4.4.3 VGG-16 - CIFAR-10 - alpha 1"
      ]
    },
    {
      "cell_type": "code",
      "execution_count": null,
      "metadata": {
        "id": "PaFSLnSMW9lN"
      },
      "outputs": [],
      "source": [
        "train_loader, test_loader = non_iid_cifar10(num_clients, batch_size, 1)\n",
        "process(torchvision.models.vgg16(), train_loader, test_loader)"
      ]
    },
    {
      "cell_type": "markdown",
      "metadata": {
        "id": "jtbNkN-voWva"
      },
      "source": [
        "### 4.4.4 VGG-16 - CIFAR-10 - IID"
      ]
    },
    {
      "cell_type": "code",
      "execution_count": null,
      "metadata": {
        "id": "za62waJPXMsL"
      },
      "outputs": [],
      "source": [
        "train_loader, test_loader = iid_cifar10(num_clients, batch_size)\n",
        "process(torchvision.models.vgg16(), train_loader, test_loader)"
      ]
    },
    {
      "cell_type": "markdown",
      "metadata": {
        "id": "Q7lrTIDjoGZX"
      },
      "source": [
        "### 4.4.5 VGG-16 - CIFAR-100 - alpha 0.1"
      ]
    },
    {
      "cell_type": "code",
      "execution_count": null,
      "metadata": {
        "id": "8rAv4s4SX6k9"
      },
      "outputs": [],
      "source": [
        "train_loader, test_loader = non_iid_cifar100(num_clients, batch_size, 0.1)\n",
        "process(torchvision.models.vgg16(), train_loader, test_loader)"
      ]
    },
    {
      "cell_type": "markdown",
      "metadata": {
        "id": "5pD1eaAhoLRu"
      },
      "source": [
        "### 4.4.6 VGG-16 - CIFAR-100 - alpha 0.5"
      ]
    },
    {
      "cell_type": "code",
      "execution_count": null,
      "metadata": {
        "id": "DYD10CNjZe_g"
      },
      "outputs": [],
      "source": [
        "train_loader, test_loader = non_iid_cifar100(num_clients, batch_size, 0.5)\n",
        "process(torchvision.models.vgg16(), train_loader, test_loader)"
      ]
    },
    {
      "cell_type": "markdown",
      "metadata": {
        "id": "qd45rXAioP1G"
      },
      "source": [
        "### 4.4.7 VGG-16 - CIFAR-100 - alpha 1"
      ]
    },
    {
      "cell_type": "code",
      "execution_count": null,
      "metadata": {
        "id": "AqbWh_LPZjZD"
      },
      "outputs": [],
      "source": [
        "train_loader, test_loader = non_iid_cifar100(num_clients, batch_size, 1)\n",
        "process(torchvision.models.vgg16(), train_loader, test_loader)"
      ]
    },
    {
      "cell_type": "markdown",
      "metadata": {
        "id": "ZC_oCiY9owcA"
      },
      "source": [
        "### 4.4.8 VGG-16 - CIFAR-100 - IID"
      ]
    },
    {
      "cell_type": "code",
      "execution_count": null,
      "metadata": {
        "id": "p1v9bcaaZtSR"
      },
      "outputs": [],
      "source": [
        "train_loader, test_loader = iid_cifar100(num_clients, batch_size)\n",
        "process(torchvision.models.vgg16(), train_loader, test_loader)"
      ]
    },
    {
      "cell_type": "markdown",
      "metadata": {
        "id": "YT_JHH65quAn"
      },
      "source": [
        "### 4.4.9 VGG-16 - EMNIST - alpha 0.1"
      ]
    },
    {
      "cell_type": "code",
      "execution_count": null,
      "metadata": {
        "id": "o9bcpvJIaIw5"
      },
      "outputs": [],
      "source": [
        "train_loader, test_loader = non_iid_emnist(num_clients, batch_size, 0.1)\n",
        "process(torchvision.models.vgg16(), train_loader, test_loader)"
      ]
    },
    {
      "cell_type": "markdown",
      "metadata": {
        "id": "QGrqfVX7q0l_"
      },
      "source": [
        "### 4.4.10 VGG-16 - EMNIST - alpha 0.5"
      ]
    },
    {
      "cell_type": "code",
      "execution_count": null,
      "metadata": {
        "id": "lFTXBVsqaKbf"
      },
      "outputs": [],
      "source": [
        "train_loader, test_loader = non_iid_emnist(num_clients, batch_size, 0.5)\n",
        "process(torchvision.models.vgg16(), train_loader, test_loader)"
      ]
    },
    {
      "cell_type": "markdown",
      "metadata": {
        "id": "xt6d3I30q3lr"
      },
      "source": [
        "### 4.4.11 VGG-16 - EMNIST - alpha 1"
      ]
    },
    {
      "cell_type": "code",
      "execution_count": null,
      "metadata": {
        "id": "cVrDaM-jaK4d"
      },
      "outputs": [],
      "source": [
        "train_loader, test_loader = non_iid_emnist(num_clients, batch_size, 1)\n",
        "process(torchvision.models.vgg16(), train_loader, test_loader)"
      ]
    },
    {
      "cell_type": "markdown",
      "metadata": {
        "id": "-lxeXbWCq9iZ"
      },
      "source": [
        "### 4.4.12 VGG-16 - EMNIST - IID"
      ]
    },
    {
      "cell_type": "code",
      "execution_count": null,
      "metadata": {
        "id": "JG4jpNiXcPzC"
      },
      "outputs": [],
      "source": [
        "train_loader, test_loader = iid_emnist(num_clients, batch_size)\n",
        "process(torchvision.models.vgg16(), train_loader, test_loader)"
      ]
    },
    {
      "cell_type": "markdown",
      "metadata": {
        "id": "3JiIsZdNrEKY"
      },
      "source": [
        "### 4.4.13 ResNet-18 - CIFAR-10 - alpha 0.1"
      ]
    },
    {
      "cell_type": "code",
      "execution_count": null,
      "metadata": {
        "id": "D1uWvLmocRVz"
      },
      "outputs": [],
      "source": [
        "train_loader, test_loader = non_iid_cifar10(num_clients, batch_size, 0.1)\n",
        "process(torchvision.models.resnet18(), train_loader, test_loader)"
      ]
    },
    {
      "cell_type": "markdown",
      "metadata": {
        "id": "TdFSItczrRuN"
      },
      "source": [
        "### 4.4.14 ResNet-18 - CIFAR-10 - alpha 0.5"
      ]
    },
    {
      "cell_type": "code",
      "execution_count": null,
      "metadata": {
        "id": "BIjYwU-LcSGk"
      },
      "outputs": [],
      "source": [
        "train_loader, test_loader = non_iid_cifar10(num_clients, batch_size, 0.5)\n",
        "process(torchvision.models.resnet18(), train_loader, test_loader)"
      ]
    },
    {
      "cell_type": "markdown",
      "metadata": {
        "id": "VEGl4PHlrV-z"
      },
      "source": [
        "### 4.4.15 ResNet-18 - CIFAR-10 - alpha 1"
      ]
    },
    {
      "cell_type": "code",
      "execution_count": null,
      "metadata": {
        "id": "w6ewoFIccSnk"
      },
      "outputs": [],
      "source": [
        "train_loader, test_loader = non_iid_cifar10(num_clients, batch_size, 1)\n",
        "process(torchvision.models.resnet18(), train_loader, test_loader)"
      ]
    },
    {
      "cell_type": "markdown",
      "metadata": {
        "id": "Sk0mNm1-rZN7"
      },
      "source": [
        "### 4.4.16 ResNet-18 - CIFAR-10 - IID"
      ]
    },
    {
      "cell_type": "code",
      "execution_count": null,
      "metadata": {
        "id": "srLYIpVCcTO8"
      },
      "outputs": [],
      "source": [
        "train_loader, test_loader = iid_cifar10(num_clients, batch_size)\n",
        "process(torchvision.models.resnet18(), train_loader, test_loader)"
      ]
    },
    {
      "cell_type": "markdown",
      "metadata": {
        "id": "bw_u-iMlre7U"
      },
      "source": [
        "### 4.4.17 ResNet-18 - CIFAR-100 - alpha 0.1"
      ]
    },
    {
      "cell_type": "code",
      "execution_count": null,
      "metadata": {
        "id": "Dxl3zISmcT7d"
      },
      "outputs": [],
      "source": [
        "train_loader, test_loader = non_iid_cifar100(num_clients, batch_size, 0.1)\n",
        "process(torchvision.models.resnet18(), train_loader, test_loader)"
      ]
    },
    {
      "cell_type": "markdown",
      "metadata": {
        "id": "ttTsWNP-ri3T"
      },
      "source": [
        "### 4.4.18 ResNet-18 - CIFAR-100 - alpha 0.5"
      ]
    },
    {
      "cell_type": "code",
      "execution_count": null,
      "metadata": {
        "id": "J_I9b1G0cUaF"
      },
      "outputs": [],
      "source": [
        "train_loader, test_loader = non_iid_cifar100(num_clients, batch_size, 0.5)\n",
        "process(torchvision.models.resnet18(), train_loader, test_loader)"
      ]
    },
    {
      "cell_type": "markdown",
      "metadata": {
        "id": "QifNLJQnrvbi"
      },
      "source": [
        "### 4.4.19 ResNet-18 - CIFAR-100 - alpha 1"
      ]
    },
    {
      "cell_type": "code",
      "execution_count": null,
      "metadata": {
        "id": "e7ln7GcDcU2O"
      },
      "outputs": [],
      "source": [
        "train_loader, test_loader = non_iid_cifar100(num_clients, batch_size, 1)\n",
        "process(torchvision.models.resnet18(), train_loader, test_loader)"
      ]
    },
    {
      "cell_type": "markdown",
      "metadata": {
        "id": "8LoQXXtUry8a"
      },
      "source": [
        "### 4.4.20 ResNet-18 - CIFAR-100 - IID"
      ]
    },
    {
      "cell_type": "code",
      "execution_count": null,
      "metadata": {
        "id": "2Js_5HT8cVUO"
      },
      "outputs": [],
      "source": [
        "train_loader, test_loader = iid_cifar100(num_clients, batch_size)\n",
        "process(torchvision.models.resnet18(), train_loader, test_loader)"
      ]
    },
    {
      "cell_type": "markdown",
      "metadata": {
        "id": "PaOnMKW-r3PP"
      },
      "source": [
        "### 4.4.21 ResNet-18 - EMNIST - alpha 0.1"
      ]
    },
    {
      "cell_type": "code",
      "execution_count": null,
      "metadata": {
        "id": "a3IiM5d7cWR_"
      },
      "outputs": [],
      "source": [
        "train_loader, test_loader = non_iid_emnist(num_clients, batch_size, 0.1)\n",
        "process(torchvision.models.resnet18(), train_loader, test_loader)"
      ]
    },
    {
      "cell_type": "markdown",
      "metadata": {
        "id": "BHxQRexQsGBa"
      },
      "source": [
        "### 4.4.22 ResNet-18 - EMNIST - alpha 0.5"
      ]
    },
    {
      "cell_type": "code",
      "execution_count": null,
      "metadata": {
        "id": "k9U9cX9EcW33"
      },
      "outputs": [],
      "source": [
        "train_loader, test_loader = non_iid_emnist(num_clients, batch_size, 0.5)\n",
        "process(torchvision.models.resnet18(), train_loader, test_loader)"
      ]
    },
    {
      "cell_type": "markdown",
      "metadata": {
        "id": "fPwqCB4WsJsi"
      },
      "source": [
        "### 4.4.23 ResNet-18 - EMNIST - alpha 1"
      ]
    },
    {
      "cell_type": "code",
      "execution_count": null,
      "metadata": {
        "id": "KnIRrXHhcXQS"
      },
      "outputs": [],
      "source": [
        "train_loader, test_loader = non_iid_emnist(num_clients, batch_size, 1)\n",
        "process(torchvision.models.resnet18(), train_loader, test_loader)"
      ]
    },
    {
      "cell_type": "markdown",
      "metadata": {
        "id": "daA3Rj2FsOLP"
      },
      "source": [
        "### 4.4.24 ResNet-18 - EMNIST - IID"
      ]
    },
    {
      "cell_type": "code",
      "execution_count": null,
      "metadata": {
        "id": "iel2LYMbcXnf"
      },
      "outputs": [],
      "source": [
        "train_loader, test_loader = iid_emnist(num_clients, batch_size)\n",
        "process(torchvision.models.resnet18(), train_loader, test_loader)"
      ]
    },
    {
      "cell_type": "markdown",
      "metadata": {
        "id": "RUQU95qVsR95"
      },
      "source": [
        "### 4.4.25 CNN - CIFAR-10 - alpha 0.1"
      ]
    },
    {
      "cell_type": "code",
      "execution_count": null,
      "metadata": {
        "id": "sEik5oAccYaI"
      },
      "outputs": [],
      "source": [
        "train_loader, test_loader = non_iid_cifar10(num_clients, batch_size, 0.1)\n",
        "process(CNN(), train_loader, test_loader)"
      ]
    },
    {
      "cell_type": "markdown",
      "metadata": {
        "id": "I0Q6hLS7sd8L"
      },
      "source": [
        "### 4.4.26 CNN - CIFAR-10 - alpha 0.5"
      ]
    },
    {
      "cell_type": "code",
      "execution_count": null,
      "metadata": {
        "id": "AkSs3bQacY6X"
      },
      "outputs": [],
      "source": [
        "train_loader, test_loader = non_iid_cifar10(num_clients, batch_size, 0.5)\n",
        "process(CNN(), train_loader, test_loader)"
      ]
    },
    {
      "cell_type": "markdown",
      "metadata": {
        "id": "NEi1lB2NshFK"
      },
      "source": [
        "### 4.4.27 CNN - CIFAR-10 - alpha 1"
      ]
    },
    {
      "cell_type": "code",
      "execution_count": null,
      "metadata": {
        "id": "erJ-eLAmcaKa"
      },
      "outputs": [],
      "source": [
        "train_loader, test_loader = non_iid_cifar10(num_clients, batch_size, 1)\n",
        "process(CNN(), train_loader, test_loader)"
      ]
    },
    {
      "cell_type": "markdown",
      "metadata": {
        "id": "g-3wDNXIslfP"
      },
      "source": [
        "### 4.4.28 CNN - CIFAR-10 - IID"
      ]
    },
    {
      "cell_type": "code",
      "execution_count": null,
      "metadata": {
        "id": "VI0P5ehpcalh"
      },
      "outputs": [],
      "source": [
        "train_loader, test_loader = iid_cifar10(num_clients, batch_size)\n",
        "process(CNN(), train_loader, test_loader)"
      ]
    },
    {
      "cell_type": "markdown",
      "metadata": {
        "id": "Qd02xY5dsp7T"
      },
      "source": [
        "### 4.4.29 CNN - CIFAR-100 - alpha 0.1"
      ]
    },
    {
      "cell_type": "code",
      "execution_count": null,
      "metadata": {
        "id": "qmlhoqyAca-S"
      },
      "outputs": [],
      "source": [
        "train_loader, test_loader = non_iid_cifar100(num_clients, batch_size, 0.1)\n",
        "process(CNN(), train_loader, test_loader)"
      ]
    },
    {
      "cell_type": "markdown",
      "metadata": {
        "id": "Db1_5uB9tIQB"
      },
      "source": [
        "### 4.4.30 CNN - CIFAR-100 - alpha 0.5"
      ]
    },
    {
      "cell_type": "code",
      "execution_count": null,
      "metadata": {
        "id": "_0DKIvqzcbVT"
      },
      "outputs": [],
      "source": [
        "train_loader, test_loader = non_iid_cifar100(num_clients, batch_size, 0.5)\n",
        "process(CNN(), train_loader, test_loader)"
      ]
    },
    {
      "cell_type": "markdown",
      "metadata": {
        "id": "tsMiVd1htNwa"
      },
      "source": [
        "### 4.4.31 CNN - CIFAR-100 - alpha 1"
      ]
    },
    {
      "cell_type": "code",
      "execution_count": null,
      "metadata": {
        "id": "OK_ZSkYacb4z"
      },
      "outputs": [],
      "source": [
        "train_loader, test_loader = non_iid_cifar100(num_clients, batch_size, 1)\n",
        "process(CNN(), train_loader, test_loader)"
      ]
    },
    {
      "cell_type": "markdown",
      "metadata": {
        "id": "hjJql6RvtSIi"
      },
      "source": [
        "### 4.4.32 CNN - CIFAR-100 - IID"
      ]
    },
    {
      "cell_type": "code",
      "execution_count": null,
      "metadata": {
        "id": "jFjQ2Mlvcc5r"
      },
      "outputs": [],
      "source": [
        "train_loader, test_loader = iid_cifar100(num_clients, batch_size)\n",
        "process(CNN(), train_loader, test_loader)"
      ]
    },
    {
      "cell_type": "markdown",
      "metadata": {
        "id": "5jIyDRTntgkv"
      },
      "source": [
        "### 4.4.33 CNN - EMNIST - alpha 0.1"
      ]
    },
    {
      "cell_type": "code",
      "execution_count": null,
      "metadata": {
        "id": "Ihphw-fncdaj"
      },
      "outputs": [],
      "source": [
        "train_loader, test_loader = non_iid_emnist(num_clients, batch_size, 0.1)\n",
        "process(CNN(), train_loader, test_loader)"
      ]
    },
    {
      "cell_type": "markdown",
      "metadata": {
        "id": "xEvOsQBRtq7q"
      },
      "source": [
        "### 4.4.34 CNN - EMNIST - alpha 0.5"
      ]
    },
    {
      "cell_type": "code",
      "execution_count": null,
      "metadata": {
        "id": "tYSRI7gWcdxj"
      },
      "outputs": [],
      "source": [
        "train_loader, test_loader = non_iid_emnist(num_clients, batch_size, 0.5)\n",
        "process(CNN(), train_loader, test_loader)"
      ]
    },
    {
      "cell_type": "markdown",
      "metadata": {
        "id": "avewl_yluKCD"
      },
      "source": [
        "### 4.4.35 CNN - EMNIST - alpha 1"
      ]
    },
    {
      "cell_type": "code",
      "execution_count": null,
      "metadata": {
        "id": "fiQemaUUceuz"
      },
      "outputs": [],
      "source": [
        "train_loader, test_loader = non_iid_emnist(num_clients, batch_size, 1)\n",
        "process(CNN(), train_loader, test_loader)"
      ]
    },
    {
      "cell_type": "markdown",
      "metadata": {
        "id": "q1HyAk7TuM77"
      },
      "source": [
        "### 4.4.36 CNN - EMNIST - IID"
      ]
    },
    {
      "cell_type": "code",
      "execution_count": null,
      "metadata": {
        "id": "l1t8La-ocfbd"
      },
      "outputs": [],
      "source": [
        "train_loader, test_loader = iid_emnist(num_clients, batch_size)\n",
        "process(CNN(), train_loader, test_loader)"
      ]
    }
  ],
  "metadata": {
    "accelerator": "GPU",
    "colab": {
      "collapsed_sections": [
        "riKHvguqaBpY",
        "Ed5AzL_wFNl1",
        "K7LOZBp8ICoW",
        "WyAi1-X5ILku",
        "apwMG1yOIUe2",
        "efcU4bFek2m3",
        "iDO3gLplk__m",
        "HLSuKVF6mJ7s"
      ],
      "gpuType": "T4",
      "provenance": [],
      "include_colab_link": true
    },
    "kernelspec": {
      "display_name": "Python 3",
      "name": "python3"
    },
    "language_info": {
      "codemirror_mode": {
        "name": "ipython",
        "version": 3
      },
      "file_extension": ".py",
      "mimetype": "text/x-python",
      "name": "python",
      "nbconvert_exporter": "python",
      "pygments_lexer": "ipython3",
      "version": "3.10.11"
    }
  },
  "nbformat": 4,
  "nbformat_minor": 0
}